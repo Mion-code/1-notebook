{
 "cells": [
  {
   "cell_type": "markdown",
   "id": "dcf26427-44df-4cd7-9882-5debcd1b7414",
   "metadata": {},
   "source": [
    "# Data Science Tools and Ecosystem"
   ]
  },
  {
   "cell_type": "markdown",
   "id": "7b0bdc48-7759-49a0-9081-8b25a694180a",
   "metadata": {},
   "source": [
    "***In this notebook, Data Science Tools and Ecosystem are summarized.***"
   ]
  },
  {
   "cell_type": "markdown",
   "id": "4bffc240-1212-4d5c-a5c6-796589b8d85c",
   "metadata": {},
   "source": [
    "**Objectives:**\n",
    "- List popular languages for Data Science;\n",
    "- List data science libraries;\n",
    "- Create a markdown cell with a table of Data Science tools;\n",
    "- Create a markdown cell introducing arithmetic expression examples;\n",
    "- Create a code cell to multiply and add numbers."
   ]
  },
  {
   "cell_type": "markdown",
   "id": "f6893e57-fedf-4214-b1e5-e1e4fb099722",
   "metadata": {},
   "source": [
    "*Some of the popular languages that Data Scientists use are:*"
   ]
  },
  {
   "cell_type": "markdown",
   "id": "4c16a82f-4774-4ad4-9f3a-bc20ebc50407",
   "metadata": {},
   "source": [
    "1. *Python*\n",
    "2. *R*\n",
    "3. *SQL*"
   ]
  },
  {
   "cell_type": "markdown",
   "id": "9aef1333-6ee6-4076-b5ad-60cc302670d3",
   "metadata": {},
   "source": [
    "*Some of the commonly used libraries used by Data Scientists include:*\n",
    "1. *Pandas*\n",
    "2. *Numpy*\n",
    "3. *Matplotlib*\r\n"
   ]
  },
  {
   "cell_type": "markdown",
   "id": "2eb3004e-1716-4ff3-900c-0f0a8aef0378",
   "metadata": {},
   "source": [
    "| Data Science Tools |\r\n",
    "|--------------------|\r\n",
    "| Jupyter Notebook   |\r\n",
    "| RStudio            |\r\n",
    "| Anaconda           |\r\n"
   ]
  },
  {
   "cell_type": "markdown",
   "id": "1465ceb1-431b-4083-a30c-a48194259ebf",
   "metadata": {},
   "source": [
    "### Below are a few examples of evaluating arithmetic expressions in Python.\r\n"
   ]
  },
  {
   "cell_type": "raw",
   "id": "36de815c-963b-4ea2-a119-7e08fa45cb75",
   "metadata": {},
   "source": [
    "This a simple arithmetic expression to mutiply then add integers"
   ]
  },
  {
   "cell_type": "code",
   "execution_count": 52,
   "id": "46fe7abb-0a20-4df8-ad57-f57bd2201d7e",
   "metadata": {},
   "outputs": [
    {
     "data": {
      "text/plain": [
       "17"
      ]
     },
     "execution_count": 52,
     "metadata": {},
     "output_type": "execute_result"
    }
   ],
   "source": [
    "(3*4)+5"
   ]
  },
  {
   "cell_type": "raw",
   "id": "a5c4cfc0-bc0d-455a-88ed-793cabb3638f",
   "metadata": {},
   "source": [
    "This will convert 200 minutes to hours by diving by 60"
   ]
  },
  {
   "cell_type": "code",
   "execution_count": 50,
   "id": "7a4bb5c4-8ed1-40fb-8e2c-57c2f6f52a1b",
   "metadata": {},
   "outputs": [
    {
     "data": {
      "text/plain": [
       "3.3333333333333335"
      ]
     },
     "execution_count": 50,
     "metadata": {},
     "output_type": "execute_result"
    }
   ],
   "source": [
    "minutes = 200\n",
    "hours = minutes / 60\n",
    "hours"
   ]
  },
  {
   "cell_type": "markdown",
   "id": "76eba06e-edc1-4e87-b0c6-65c25591b9b9",
   "metadata": {},
   "source": [
    "## Author \n",
    "Milena"
   ]
  },
  {
   "cell_type": "code",
   "execution_count": null,
   "id": "3cc4f96c-932c-41a3-b88d-84cd9fa75aad",
   "metadata": {},
   "outputs": [],
   "source": []
  }
 ],
 "metadata": {
  "kernelspec": {
   "display_name": "Python 3 (ipykernel)",
   "language": "python",
   "name": "python3"
  },
  "language_info": {
   "codemirror_mode": {
    "name": "ipython",
    "version": 3
   },
   "file_extension": ".py",
   "mimetype": "text/x-python",
   "name": "python",
   "nbconvert_exporter": "python",
   "pygments_lexer": "ipython3",
   "version": "3.12.4"
  }
 },
 "nbformat": 4,
 "nbformat_minor": 5
}
